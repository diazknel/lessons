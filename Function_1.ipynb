{
 "cells": [
  {
   "cell_type": "code",
   "execution_count": 1,
   "id": "dc75e850",
   "metadata": {},
   "outputs": [],
   "source": [
    "DIGIT_MAP = {\n",
    "    'zero':  '0',\n",
    "    'one':   '1',\n",
    "    'two':   '2',\n",
    "    'three': '3',\n",
    "    'four':  '4',\n",
    "    'five':  '5',\n",
    "    'six':   '6',\n",
    "    'seven': '7',\n",
    "    'eight': '8',\n",
    "    'nine':  '9',\n",
    "}\n",
    "\n",
    "\n",
    "def convert(s):\n",
    "    number = ''\n",
    "    for token in s:\n",
    "        number += DIGIT_MAP[token]\n",
    "    x = int(number)\n",
    "    return x\n"
   ]
  },
  {
   "cell_type": "code",
   "execution_count": null,
   "id": "afb1a31e",
   "metadata": {},
   "outputs": [],
   "source": []
  }
 ],
 "metadata": {
  "kernelspec": {
   "display_name": "Python 3 (ipykernel)",
   "language": "python",
   "name": "python3"
  },
  "language_info": {
   "codemirror_mode": {
    "name": "ipython",
    "version": 3
   },
   "file_extension": ".py",
   "mimetype": "text/x-python",
   "name": "python",
   "nbconvert_exporter": "python",
   "pygments_lexer": "ipython3",
   "version": "3.8.5"
  }
 },
 "nbformat": 4,
 "nbformat_minor": 5
}
